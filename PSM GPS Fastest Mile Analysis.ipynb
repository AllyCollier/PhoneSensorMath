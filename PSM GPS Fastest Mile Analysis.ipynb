{
 "cells": [
  {
   "cell_type": "markdown",
   "metadata": {},
   "source": [
    "### GPS Tracking Analysis ###\n",
    "\n",
    "This jupyter notebook is designed to accept a comma-separated (csv) list of timestamped GPS latitude and longitude coordinates representing a recording of a walking or running exercise and find the fastest mile-long segment within the longer exercise. While it is taylored to work with the output from the __[Physics Toolbox Sensor Suite app](https://www.vieyrasoftware.net/)__, we have tried to make the instructions here agnostic to the method of GPS recording used.\n",
    "\n",
    "#### The Input File Specification ####\n",
    "What follows assumes that the input .csv file resembles:\n",
    "```\n",
    "time,Latitude,Longitude,,\n",
    "08:29:14:458,37.38775891,-6.00309754,\n",
    "08:29:15:460,37.38774677,-6.00311591,\n",
    "08:29:16:448,37.38774284,-6.00313017,\n",
    "08:29:18:468,37.38775696,-6.00314697,\n",
    "08:29:19:463,37.38776887,-6.00314499,\n",
    "```\n",
    "\n",
    "The ```time``` column has timestamps for each reading. The timestamps are colon-separated values of the form hours:minutes:seconds:fraction_seconds. For example, the first timestamp occurred at 8 hours, 29 minutes and 14.458 seconds after midnight local time.\n",
    "\n",
    "The ```Latitude``` column value is latitude from the equator (0 degrees) with northern latitudes positive and southern latitudes negative. The values to the right of the decimal point are _decimal_ fractions of a degree.\n",
    "\n",
    "The ```Longitude``` column value is the longitude from the Prime Meridian (0 degrees) with eastern longitudes positive and western longitudes negative. The values to the right of the decimal point are _decimal_ fractions of a degree.\n",
    "\n",
    "__Note:__ There can be other columns present in the csv file, but in order for this notebook to function properly, these columns must be present with these column header names (case-sensitive) and these value specifications.\n",
    "\n",
    "<div class=\"alert alert-block alert-info\">\n",
    "    <b>Author:</b> Albert Schueller <br>\n",
    "    <b>Affiliation:</b> <a href=\"https://www.whitman.edu\">Whitman College</a>, Walla Walla, WA USA <br>\n",
    "    <b>License:</b> GNU General Public License v3.0\n",
    "</div>\n",
    "\n"
   ]
  },
  {
   "cell_type": "code",
   "execution_count": 1,
   "metadata": {},
   "outputs": [],
   "source": [
    "# Libraries needed by this notebook.\n",
    "import pandas as pd\n",
    "import numpy as np\n",
    "import matplotlib.pyplot as plt"
   ]
  },
  {
   "cell_type": "markdown",
   "metadata": {},
   "source": [
    "#### Data Description: Analysis of a 4 mile run.\n",
    "\n",
    "GPS readings during a 4 mile run. The data were measured using Physics Toolbox Sensor Suite Pro, on a OnePlus 3T phone, strapped to the runner's waist in a tight band. The app/phone combination is capable of sampling GPS at about 1Hz. The position is accurate to about 5 meters, but the accuracy varies noisily.\n",
    "\n",
    "The goal of this notebook is to find the starts of the fastest mile-long segements within the longer run."
   ]
  },
  {
   "cell_type": "code",
   "execution_count": 2,
   "metadata": {},
   "outputs": [],
   "source": [
    "# Read the GPS data.\n",
    "raw = pd.read_csv('PSM GPS Recording.csv')\n",
    "# Convert 'time' column to datetime objects and re-index the dataframe using the resulting datetimes.\n",
    "raw.index = pd.to_datetime(raw.time, format='%H:%M:%S:%f')\n",
    "# Convert the datetimes to minutes and re-index the dataframe by the resulting minute values.\n",
    "raw.index = (raw.index-raw.index[0]).total_seconds()/60"
   ]
  },
  {
   "cell_type": "markdown",
   "metadata": {},
   "source": [
    "Convert sequence of lat/lon to miles using the Haversine function. __Note:__ if you want to use different units of distance, see the comment near the end of this function definition."
   ]
  },
  {
   "cell_type": "code",
   "execution_count": 3,
   "metadata": {},
   "outputs": [],
   "source": [
    "# Haversine function definition. \n",
    "def haversine(lat, lon):\n",
    "    \"\"\"\n",
    "    Takes two columns of consecutive (lat, lon) measurements and returns an array of \n",
    "    distances between consecutive pairs using the Haversine distance function.\n",
    "    \"\"\"\n",
    "    \n",
    "    # convert degrees to np array in radians\n",
    "    lat, lon = map(np.radians, map(np.array, [lat, lon]))\n",
    "    \n",
    "    # compute dlon/dlat\n",
    "    dlat = np.diff(lat)\n",
    "    dlon = np.diff(lon)\n",
    "    \n",
    "    # compute distances\n",
    "    a = np.power(np.sin(dlat/2),2) + np.cos(lat[:-1])*np.cos(lat[1:])*np.power(np.sin(dlon/2),2)\n",
    "    c = 2*np.arctan2(np.sqrt(a),np.sqrt(1-a))\n",
    "    \n",
    "    # The constant here, 3958.7613, is the radius of the earth in miles, if you prefer different units, \n",
    "    # convert this constant into the preferred units. For example, use 6370.9929 for kilometers.\n",
    "    mi = (3958.7613)* c\n",
    "    return mi"
   ]
  },
  {
   "cell_type": "code",
   "execution_count": 4,
   "metadata": {},
   "outputs": [
    {
     "data": {
      "text/html": [
       "<div>\n",
       "<style scoped>\n",
       "    .dataframe tbody tr th:only-of-type {\n",
       "        vertical-align: middle;\n",
       "    }\n",
       "\n",
       "    .dataframe tbody tr th {\n",
       "        vertical-align: top;\n",
       "    }\n",
       "\n",
       "    .dataframe thead th {\n",
       "        text-align: right;\n",
       "    }\n",
       "</style>\n",
       "<table border=\"1\" class=\"dataframe\">\n",
       "  <thead>\n",
       "    <tr style=\"text-align: right;\">\n",
       "      <th></th>\n",
       "      <th>time</th>\n",
       "      <th>Latitude</th>\n",
       "      <th>Longitude</th>\n",
       "      <th>Unnamed: 3</th>\n",
       "      <th>Unnamed: 4</th>\n",
       "      <th>position</th>\n",
       "    </tr>\n",
       "    <tr>\n",
       "      <th>time</th>\n",
       "      <th></th>\n",
       "      <th></th>\n",
       "      <th></th>\n",
       "      <th></th>\n",
       "      <th></th>\n",
       "      <th></th>\n",
       "    </tr>\n",
       "  </thead>\n",
       "  <tbody>\n",
       "    <tr>\n",
       "      <th>0.000000</th>\n",
       "      <td>08:29:14:458</td>\n",
       "      <td>37.387759</td>\n",
       "      <td>-6.003098</td>\n",
       "      <td>NaN</td>\n",
       "      <td>NaN</td>\n",
       "      <td>0.000000</td>\n",
       "    </tr>\n",
       "    <tr>\n",
       "      <th>0.016700</th>\n",
       "      <td>08:29:15:460</td>\n",
       "      <td>37.387747</td>\n",
       "      <td>-6.003116</td>\n",
       "      <td>NaN</td>\n",
       "      <td>NaN</td>\n",
       "      <td>0.001312</td>\n",
       "    </tr>\n",
       "    <tr>\n",
       "      <th>0.033167</th>\n",
       "      <td>08:29:16:448</td>\n",
       "      <td>37.387743</td>\n",
       "      <td>-6.003130</td>\n",
       "      <td>NaN</td>\n",
       "      <td>NaN</td>\n",
       "      <td>0.002140</td>\n",
       "    </tr>\n",
       "    <tr>\n",
       "      <th>0.066833</th>\n",
       "      <td>08:29:18:468</td>\n",
       "      <td>37.387757</td>\n",
       "      <td>-6.003147</td>\n",
       "      <td>NaN</td>\n",
       "      <td>NaN</td>\n",
       "      <td>0.003483</td>\n",
       "    </tr>\n",
       "    <tr>\n",
       "      <th>0.083417</th>\n",
       "      <td>08:29:19:463</td>\n",
       "      <td>37.387769</td>\n",
       "      <td>-6.003145</td>\n",
       "      <td>NaN</td>\n",
       "      <td>NaN</td>\n",
       "      <td>0.004313</td>\n",
       "    </tr>\n",
       "  </tbody>\n",
       "</table>\n",
       "</div>"
      ],
      "text/plain": [
       "                  time   Latitude  Longitude  Unnamed: 3  Unnamed: 4  position\n",
       "time                                                                          \n",
       "0.000000  08:29:14:458  37.387759  -6.003098         NaN         NaN  0.000000\n",
       "0.016700  08:29:15:460  37.387747  -6.003116         NaN         NaN  0.001312\n",
       "0.033167  08:29:16:448  37.387743  -6.003130         NaN         NaN  0.002140\n",
       "0.066833  08:29:18:468  37.387757  -6.003147         NaN         NaN  0.003483\n",
       "0.083417  08:29:19:463  37.387769  -6.003145         NaN         NaN  0.004313"
      ]
     },
     "execution_count": 4,
     "metadata": {},
     "output_type": "execute_result"
    }
   ],
   "source": [
    "# Compute successive distances, accumulate, and add to the raw dataframe in a new column called 'position'.\n",
    "\n",
    "# Assign successive displacements (miles) to p.\n",
    "p = haversine(raw.Latitude,raw.Longitude)\n",
    "# Accumulate the successive displacement to generate position.\n",
    "p = np.cumsum(p)\n",
    "# Insert a zero at the front of the list since we assume we start at position 0.\n",
    "p = np.insert(p,0,0)\n",
    "# Insert the position array into the dataframe under the column header 'position'.\n",
    "raw['position']=p.reshape(len(p),1)\n",
    "# Show the data frame now, confirm the changes make sense. Note: the two unnamed columns are artifacts of the app.\n",
    "# We should see the new time index followed by the original 3 columns, 2 specious columns, and the new position column.\n",
    "raw.head()"
   ]
  },
  {
   "cell_type": "code",
   "execution_count": 5,
   "metadata": {},
   "outputs": [
    {
     "data": {
      "image/png": "[encoded data removed]",
      "text/plain": [
       "<Figure size 432x288 with 1 Axes>"
      ]
     },
     "metadata": {
      "needs_background": "light"
     },
     "output_type": "display_data"
    }
   ],
   "source": [
    "# Plot the time vs. position values.\n",
    "plt.grid()\n",
    "plt.xlabel(\"Position (mi)\")\n",
    "plt.ylabel(\"Time (mins)\")\n",
    "plt.scatter(raw['position'],raw.index,s=1,color='black')\n",
    "plt.show()"
   ]
  },
  {
   "cell_type": "code",
   "execution_count": 6,
   "metadata": {},
   "outputs": [],
   "source": [
    "# Compute the elapsed time of every interval of length L inside the longer recording.\n",
    "\n",
    "# Length of interval (miles)\n",
    "L = 1\n",
    "\n",
    "et = []\n",
    "k = 0\n",
    "for i in range(len(raw.position-1)):\n",
    "    for j in range(k,len(raw.position)):\n",
    "        if raw.position.iloc[j]-raw.position.iloc[i]>=L:\n",
    "            et.append(raw.index[j]-raw.index[i])\n",
    "            k = j\n",
    "            break\n",
    "et = np.array(et)"
   ]
  },
  {
   "cell_type": "markdown",
   "metadata": {},
   "source": [
    "### Regression to Find Fastest Mile ###\n",
    "Here we use a 10th order polynomial regression and approximate global extrema using the polynomial regression."
   ]
  },
  {
   "cell_type": "code",
   "execution_count": 7,
   "metadata": {},
   "outputs": [
    {
     "data": {
      "image/png": "[encoded data removed]",
      "text/plain": [
       "<Figure size 396x297 with 1 Axes>"
      ]
     },
     "metadata": {
      "needs_background": "light"
     },
     "output_type": "display_data"
    },
    {
     "name": "stdout",
     "output_type": "stream",
     "text": [
      "Fastest mile:\n",
      "\t Pace 8 min 8 sec per mile.\n",
      "\t Started 0.55 mi into the run.\n",
      "\n",
      "Slowest mile:\n",
      "\t Pace 8 min 30 sec per mile.\n",
      "\t Started 2.68 mi into the run.\n"
     ]
    }
   ],
   "source": [
    "# Plot the mile time vs. position.\n",
    "X=np.array(raw.position.iloc[0:len(et)])\n",
    "Y=et\n",
    "\n",
    "fig, ax = plt.subplots(figsize=[5.5,4.125])\n",
    "ax.grid()\n",
    "ax.scatter(X,Y,color='black',s=.1)\n",
    "ax.set_xlabel(\"Mile Start Position (mi)\")\n",
    "ax.set_ylabel(\"Mile Time (min)\")\n",
    "\n",
    "# Fit and plot a high-order polynomial to the data to approximate global max/min\n",
    "poly_fit_order = 10\n",
    "fit = np.polyfit(X,Y,poly_fit_order)\n",
    "Y_fit = np.polyval(fit,X)\n",
    "ax.plot(X,Y_fit)\n",
    "\n",
    "# Show plot\n",
    "plt.show()\n",
    "\n",
    "# We can automate the finding of global extrema using the built in max/min function.\n",
    "# Reporting strings.\n",
    "pace_str = \"Pace {0} min {1} sec per mile.\"\n",
    "loc_str = \"Started {:.2f} mi into the run.\"\n",
    "\n",
    "# Find and print indices of fastest and slowest miles in the fitted polynomial.\n",
    "g_min_ind = Y_fit.argmin()\n",
    "g_max_ind = Y_fit.argmax()\n",
    "\n",
    "# Convert to minutes and seconds for reporting purposes\n",
    "g_min_minutes = int(Y_fit[g_min_ind])\n",
    "g_min_seconds = int((Y_fit[g_min_ind]-g_min_minutes)*60)\n",
    "g_max_minutes = int(Y_fit[g_max_ind])\n",
    "g_max_seconds = int((Y_fit[g_max_ind]-g_max_minutes)*60)\n",
    "\n",
    "# Report fastest and slowest mile paces and locations.\n",
    "print(\"Fastest mile:\")\n",
    "print('\\t', pace_str.format(g_min_minutes, g_min_seconds))\n",
    "print('\\t', loc_str.format(X[g_min_ind]))\n",
    "\n",
    "print(\"\\nSlowest mile:\")\n",
    "print('\\t', pace_str.format(g_max_minutes, g_max_seconds))\n",
    "print('\\t', loc_str.format(X[g_max_ind]))"
   ]
  },
  {
   "cell_type": "markdown",
   "metadata": {},
   "source": [
    "### Smoothing to Find Fastest Mile ###\n",
    "Here we use the lowess smoothing algorithm and approximate global extrema using the smoothed data."
   ]
  },
  {
   "cell_type": "code",
   "execution_count": 8,
   "metadata": {},
   "outputs": [
    {
     "data": {
      "image/png": "[encoded data removed]",
      "text/plain": [
       "<Figure size 396x297 with 1 Axes>"
      ]
     },
     "metadata": {
      "needs_background": "light"
     },
     "output_type": "display_data"
    },
    {
     "name": "stdout",
     "output_type": "stream",
     "text": [
      "Fastest mile:\n",
      "\t Pace 8 min 8 sec per mile.\n",
      "\t Started 0.52 mi into the run.\n",
      "\n",
      "Slowest mile:\n",
      "\t Pace 8 min 30 sec per mile.\n",
      "\t Started 2.77 mi into the run.\n"
     ]
    }
   ],
   "source": [
    "# The lowess smoothing algorithm\n",
    "from statsmodels.nonparametric.smoothers_lowess import lowess\n",
    "from scipy.signal import argrelextrema\n",
    "X=np.array(raw.position.iloc[0:len(et)])\n",
    "Y=et\n",
    "\n",
    "fig, ax = plt.subplots(figsize=[5.5,4.125])\n",
    "ax.grid()\n",
    "ax.scatter(X,Y,color='black',s=.1)\n",
    "ax.set_xlabel(\"Mile Start Position (mi)\")\n",
    "ax.set_ylabel(\"Mile Time (min)\")\n",
    "\n",
    "# Smooth using lowess algorithm, this algorithm smooths by fitting local linear regressions \n",
    "# using a collection of nearby points, the frac parameter, between 0 and 1, says how many \n",
    "# surrounding points to use, for example frac=0.05 says to use the 5% of the data closest\n",
    "# to the point of interest. The larger frac, the more smoothing.\n",
    "smoothed = lowess(Y, X, is_sorted=True, frac=0.1, it=0)\n",
    "Y_smoothed = smoothed[:,1]\n",
    "ax.plot(X,Y_smoothed)\n",
    "\n",
    "# Show the plot\n",
    "plt.show()\n",
    "\n",
    "# We can automate the finding of global extrema using the built in max/min function.\n",
    "# Reporting strings.\n",
    "pace_str = \"Pace {0} min {1} sec per mile.\"\n",
    "loc_str = \"Started {:.2f} mi into the run.\"\n",
    "\n",
    "# Find and print indices of fastest and slowest miles.\n",
    "g_min_ind = Y_smoothed.argmin()\n",
    "g_max_ind = Y_smoothed.argmax()\n",
    "\n",
    "# Convert to minutes and seconds for reporting purposes\n",
    "g_min_minutes = int(Y_smoothed[g_min_ind])\n",
    "g_min_seconds = int((Y_smoothed[g_min_ind]-g_min_minutes)*60)\n",
    "g_max_minutes = int(Y_smoothed[g_max_ind])\n",
    "g_max_seconds = int((Y_smoothed[g_max_ind]-g_max_minutes)*60)\n",
    "\n",
    "# Report fastest and slowest mile paces and locations.\n",
    "print(\"Fastest mile:\")\n",
    "print('\\t', pace_str.format(g_min_minutes, g_min_seconds))\n",
    "print('\\t', loc_str.format(X[g_min_ind]))\n",
    "\n",
    "print(\"\\nSlowest mile:\")\n",
    "print('\\t', pace_str.format(g_max_minutes, g_max_seconds))\n",
    "print('\\t', loc_str.format(X[g_max_ind]))\n",
    "\n"
   ]
  },
  {
   "cell_type": "code",
   "execution_count": null,
   "metadata": {},
   "outputs": [],
   "source": []
  }
 ],
 "metadata": {
  "kernelspec": {
   "display_name": "Python 3",
   "language": "python",
   "name": "python3"
  },
  "language_info": {
   "codemirror_mode": {
    "name": "ipython",
    "version": 3
   },
   "file_extension": ".py",
   "mimetype": "text/x-python",
   "name": "python",
   "nbconvert_exporter": "python",
   "pygments_lexer": "ipython3",
   "version": "3.6.6"
  }
 },
 "nbformat": 4,
 "nbformat_minor": 2
}
