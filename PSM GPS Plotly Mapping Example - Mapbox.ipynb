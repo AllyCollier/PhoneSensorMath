{
 "cells": [
  {
   "cell_type": "markdown",
   "metadata": {},
   "source": [
    "### Plotly Mapping Example ###\n",
    "\n",
    "This jupyter notebook is designed to accept a comma-separated (csv) list of timestamped GPS latitude and longitude coordinates representing a recording of a walking or running exercise and create a scatter plot of the coordinates on a map. While it is taylored to work with the output from the __[Physics Toolbox Sensor Suite app](https://www.vieyrasoftware.net/)__, we have tried to make the instructions here agnostic to the method of GPS recording used.\n",
    "\n",
    "This notebook uses the __[Plotly](https://plot.ly)__ plotting library and the __[Mapbox](https://www.mapbox.com/)__ mapping library. Both libraries are free for non-commercial use (with some minor limitations) and are suitable for use by students and instructors in academic data science applications.\n",
    "\n",
    "#### API Keys ####\n",
    "In order to use this notebook, you must acquire a free Plotly API Key (__[instructions](https://plot.ly/python/getting-started/)__) and a free Mapbox access token(__[instructions](https://docs.mapbox.com/help/tutorials/get-started-tokens-api/)__). This notebook will _not_ function unless you acquire these access tokens and insert them in the second input cell below.\n",
    "\n",
    "#### The Input File Specification ####\n",
    "What follows assumes that the input .csv file resembles:\n",
    "```\n",
    "time,Latitude,Longitude,,\n",
    "08:29:14:458,37.38775891,-6.00309754,\n",
    "08:29:15:460,37.38774677,-6.00311591,\n",
    "08:29:16:448,37.38774284,-6.00313017,\n",
    "08:29:18:468,37.38775696,-6.00314697,\n",
    "08:29:19:463,37.38776887,-6.00314499,\n",
    "```\n",
    "\n",
    "The ```time``` column has timestamps for each reading. The timestamps are colon-separated values of the form hours:minutes:seconds:fraction_seconds. For example, the first timestamp occurred at 8 hours, 29 minutes and 14.458 seconds after midnight local time.\n",
    "\n",
    "The ```Latitude``` column value is latitude from the equator (0 degrees) with northern latitudes positive and southern latitudes negative. The values to the right of the decimal point are _decimal_ fractions of a degree.\n",
    "\n",
    "The ```Longitude``` column value is the longitude from the Prime Meridian (0 degrees) with eastern longitudes positive and western longitudes negative. The values to the right of the decimal point are _decimal_ fractions of a degree.\n",
    "\n",
    "__Note:__ There can be other columns present in the csv file, but in order for this notebook to function properly, these columns must be present with these column header names (case-sensitive) and these value specifications.\n",
    "\n",
    "<div class=\"alert alert-block alert-info\">\n",
    "    <b>Author:</b> Albert Schueller <br>\n",
    "    <b>Affiliation:</b> <a href=\"https://www.whitman.edu\">Whitman College</a>, Walla Walla, WA USA <br>\n",
    "    <b>License:</b> GNU General Public License v3.0\n",
    "</div>\n",
    "\n"
   ]
  },
  {
   "cell_type": "code",
   "execution_count": null,
   "metadata": {},
   "outputs": [],
   "source": [
    "# Load libraries\n",
    "import pandas as pd\n",
    "import numpy as np\n",
    "import plotly.plotly as py\n",
    "import plotly.graph_objs as go\n",
    "from plotly.tools import set_credentials_file\n",
    "\n",
    "# Read the raw data\n",
    "raw = pd.read_csv('PSM GPS Recording.csv')\n",
    "\n",
    "# Create arrays for latitude and longitude.\n",
    "my_lat = np.array(raw.Latitude)\n",
    "my_lon = np.array(raw.Longitude)"
   ]
  },
  {
   "cell_type": "markdown",
   "metadata": {},
   "source": [
    "#### Plotly and Mapbox Key/Token Specification ####\n",
    "<span style=\"color:red\">!!!! WARNING: DO NOT SHARE THIS WORKSHEET WITHOUT REMOVING THE KEY INFO HERE!!!!</span>"
   ]
  },
  {
   "cell_type": "code",
   "execution_count": null,
   "metadata": {},
   "outputs": [],
   "source": [
    "# !!!! WARNING: DO NOT SHARE THIS WORKSHEET WITHOUT REMOVING THE KEY INFO HERE!!!!\n",
    "# Plotly credentials/API Key, see https://plot.ly/python/getting-started/\n",
    "set_credentials_file(username='YOUR_PLOTLY_USERNAME', api_key='YOUR_PLOTLY_API_KEY')\n",
    "# Mapbox credentials/access token, see https://docs.mapbox.com/help/tutorials/get-started-tokens-api/\n",
    "mapbox_access_token = 'YOUR_MAPBOX_ACCESS_TOKEN'"
   ]
  },
  {
   "cell_type": "markdown",
   "metadata": {},
   "source": [
    "#### Generate Scatterplot on Map ####\n",
    "Once the plot is generated, you can click on the \"Edit Chart\" button at the bottome of the map output and launch an interactive version of the map in a browser hosted at the plotly website. In the interactive version, you can explore the data in detail and inspect anomalies."
   ]
  },
  {
   "cell_type": "code",
   "execution_count": null,
   "metadata": {
    "scrolled": true
   },
   "outputs": [],
   "source": [
    "# Create map, centered on the average of the GPS data\n",
    "data = [\n",
    "    go.Scattermapbox(\n",
    "        lat=my_lat,\n",
    "        lon=my_lon,\n",
    "        mode='markers',\n",
    "    )\n",
    "]\n",
    "\n",
    "layout = go.Layout(\n",
    "    hovermode=False,\n",
    "    mapbox=dict(\n",
    "        accesstoken=mapbox_access_token,\n",
    "        bearing=90,\n",
    "        center=dict(\n",
    "            lat=np.average(my_lat),\n",
    "            lon=np.average(my_lon)\n",
    "        ),\n",
    "        pitch=0,\n",
    "        zoom=14\n",
    "    ),\n",
    "    \n",
    "    annotations=[\n",
    "        go.layout.Annotation(\n",
    "            text='© <a href=\"https://www.mapbox.com/about/maps/\">Mapbox</a> © <a href=\"http://www.openstreetmap.org/copyright\">OpenStreetMap</a>',\n",
    "            showarrow=False,\n",
    "            xref='paper',\n",
    "            yref='paper',\n",
    "            x=1,\n",
    "            y=0\n",
    "        )\n",
    "    ]\n",
    ")\n",
    "\n",
    "fig = go.Figure(data=data, layout=layout)\n",
    "py.iplot(fig, filename='GPS Mapbox')\n"
   ]
  },
  {
   "cell_type": "code",
   "execution_count": null,
   "metadata": {},
   "outputs": [],
   "source": []
  }
 ],
 "metadata": {
  "kernelspec": {
   "display_name": "Python 3",
   "language": "python",
   "name": "python3"
  },
  "language_info": {
   "codemirror_mode": {
    "name": "ipython",
    "version": 3
   },
   "file_extension": ".py",
   "mimetype": "text/x-python",
   "name": "python",
   "nbconvert_exporter": "python",
   "pygments_lexer": "ipython3",
   "version": "3.7.3"
  }
 },
 "nbformat": 4,
 "nbformat_minor": 2
}
